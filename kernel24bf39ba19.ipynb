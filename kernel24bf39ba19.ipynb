{
 "cells": [
  {
   "cell_type": "code",
   "execution_count": 1,
   "metadata": {
    "_cell_guid": "b1076dfc-b9ad-4769-8c92-a6c4dae69d19",
    "_uuid": "8f2839f25d086af736a60e9eeb907d3b93b6e0e5",
    "execution": {
     "iopub.execute_input": "2020-08-31T16:17:09.074305Z",
     "iopub.status.busy": "2020-08-31T16:17:09.073283Z",
     "iopub.status.idle": "2020-08-31T16:17:09.078546Z",
     "shell.execute_reply": "2020-08-31T16:17:09.079079Z"
    },
    "papermill": {
     "duration": 0.028551,
     "end_time": "2020-08-31T16:17:09.079275",
     "exception": false,
     "start_time": "2020-08-31T16:17:09.050724",
     "status": "completed"
    },
    "tags": []
   },
   "outputs": [
    {
     "name": "stdout",
     "output_type": "stream",
     "text": [
      "/kaggle/input/digit-recognizer/sample_submission.csv\n",
      "/kaggle/input/digit-recognizer/test.csv\n",
      "/kaggle/input/digit-recognizer/train.csv\n"
     ]
    }
   ],
   "source": [
    "# This Python 3 environment comes with many helpful analytics libraries installed\n",
    "# It is defined by the kaggle/python Docker image: https://github.com/kaggle/docker-python\n",
    "# For example, here's several helpful packages to load\n",
    "\n",
    "import numpy as np # linear algebra\n",
    "import pandas as pd # data processing, CSV file I/O (e.g. pd.read_csv)\n",
    "\n",
    "# Input data files are available in the read-only \"../input/\" directory\n",
    "# For example, running this (by clicking run or pressing Shift+Enter) will list all files under the input directory\n",
    "\n",
    "import os\n",
    "for dirname, _, filenames in os.walk('/kaggle/input'):\n",
    "    for filename in filenames:\n",
    "        print(os.path.join(dirname, filename))\n",
    "\n",
    "# You can write up to 5GB to the current directory (/kaggle/working/) that gets preserved as output when you create a version using \"Save & Run All\" \n",
    "# You can also write temporary files to /kaggle/temp/, but they won't be saved outside of the current session"
   ]
  },
  {
   "cell_type": "code",
   "execution_count": 2,
   "metadata": {
    "_cell_guid": "79c7e3d0-c299-4dcb-8224-4455121ee9b0",
    "_uuid": "d629ff2d2480ee46fbb7e2d37f6b5fab8052498a",
    "execution": {
     "iopub.execute_input": "2020-08-31T16:17:09.118407Z",
     "iopub.status.busy": "2020-08-31T16:17:09.117652Z",
     "iopub.status.idle": "2020-08-31T16:17:14.826226Z",
     "shell.execute_reply": "2020-08-31T16:17:14.827353Z"
    },
    "papermill": {
     "duration": 5.732289,
     "end_time": "2020-08-31T16:17:14.827527",
     "exception": false,
     "start_time": "2020-08-31T16:17:09.095238",
     "status": "completed"
    },
    "tags": []
   },
   "outputs": [],
   "source": [
    "import matplotlib.pyplot as plt\n",
    "%matplotlib inline\n",
    "import numpy as np \n",
    "import pandas as pd\n",
    "import tensorflow as tf"
   ]
  },
  {
   "cell_type": "code",
   "execution_count": 3,
   "metadata": {
    "execution": {
     "iopub.execute_input": "2020-08-31T16:17:14.878813Z",
     "iopub.status.busy": "2020-08-31T16:17:14.878123Z",
     "iopub.status.idle": "2020-08-31T16:17:20.026873Z",
     "shell.execute_reply": "2020-08-31T16:17:20.025719Z"
    },
    "papermill": {
     "duration": 5.178583,
     "end_time": "2020-08-31T16:17:20.027033",
     "exception": false,
     "start_time": "2020-08-31T16:17:14.848450",
     "status": "completed"
    },
    "tags": []
   },
   "outputs": [],
   "source": [
    "mnist_train = pd.read_csv(\"../input/digit-recognizer/train.csv\")\n",
    "mnist_test = pd.read_csv(\"../input/digit-recognizer/test.csv\")"
   ]
  },
  {
   "cell_type": "code",
   "execution_count": 4,
   "metadata": {
    "execution": {
     "iopub.execute_input": "2020-08-31T16:17:20.069329Z",
     "iopub.status.busy": "2020-08-31T16:17:20.068566Z",
     "iopub.status.idle": "2020-08-31T16:17:20.252218Z",
     "shell.execute_reply": "2020-08-31T16:17:20.253115Z"
    },
    "papermill": {
     "duration": 0.210655,
     "end_time": "2020-08-31T16:17:20.253287",
     "exception": false,
     "start_time": "2020-08-31T16:17:20.042632",
     "status": "completed"
    },
    "tags": []
   },
   "outputs": [],
   "source": [
    "mnist_train_data = mnist_train.loc[:, \"pixel0\":]\n",
    "mnist_train_label = mnist_train.loc[:, \"label\"]\n",
    "mnist_train_data = mnist_train_data/255.0\n",
    "mnist_test = mnist_test/255.0"
   ]
  },
  {
   "cell_type": "code",
   "execution_count": 5,
   "metadata": {
    "execution": {
     "iopub.execute_input": "2020-08-31T16:17:20.295198Z",
     "iopub.status.busy": "2020-08-31T16:17:20.293775Z",
     "iopub.status.idle": "2020-08-31T16:17:20.393521Z",
     "shell.execute_reply": "2020-08-31T16:17:20.393983Z"
    },
    "papermill": {
     "duration": 0.125069,
     "end_time": "2020-08-31T16:17:20.394143",
     "exception": false,
     "start_time": "2020-08-31T16:17:20.269074",
     "status": "completed"
    },
    "tags": []
   },
   "outputs": [
    {
     "name": "stdout",
     "output_type": "stream",
     "text": [
      "(42000, 28, 28, 1) (42000,)\n"
     ]
    }
   ],
   "source": [
    "mnist_train_data = np.array(mnist_train_data)\n",
    "mnist_train_label = np.array(mnist_train_label)\n",
    "mnist_train_data = mnist_train_data.reshape(mnist_train_data.shape[0], 28, 28, 1)\n",
    "print(mnist_train_data.shape, mnist_train_label.shape)"
   ]
  },
  {
   "cell_type": "code",
   "execution_count": 6,
   "metadata": {
    "execution": {
     "iopub.execute_input": "2020-08-31T16:17:20.433896Z",
     "iopub.status.busy": "2020-08-31T16:17:20.432659Z",
     "iopub.status.idle": "2020-08-31T16:17:20.501306Z",
     "shell.execute_reply": "2020-08-31T16:17:20.501954Z"
    },
    "papermill": {
     "duration": 0.092168,
     "end_time": "2020-08-31T16:17:20.502153",
     "exception": false,
     "start_time": "2020-08-31T16:17:20.409985",
     "status": "completed"
    },
    "tags": []
   },
   "outputs": [
    {
     "name": "stdout",
     "output_type": "stream",
     "text": [
      "(28000, 28, 28, 1)\n"
     ]
    }
   ],
   "source": [
    "mnist_test_arr = np.array(mnist_test)\n",
    "mnist_test_arr = mnist_test_arr.reshape(mnist_test_arr.shape[0], 28, 28, 1)\n",
    "print(mnist_test_arr.shape)"
   ]
  },
  {
   "cell_type": "code",
   "execution_count": 7,
   "metadata": {
    "execution": {
     "iopub.execute_input": "2020-08-31T16:17:20.541665Z",
     "iopub.status.busy": "2020-08-31T16:17:20.540939Z",
     "iopub.status.idle": "2020-08-31T16:17:20.606720Z",
     "shell.execute_reply": "2020-08-31T16:17:20.607257Z"
    },
    "papermill": {
     "duration": 0.087623,
     "end_time": "2020-08-31T16:17:20.607398",
     "exception": false,
     "start_time": "2020-08-31T16:17:20.519775",
     "status": "completed"
    },
    "tags": []
   },
   "outputs": [
    {
     "name": "stdout",
     "output_type": "stream",
     "text": [
      "Shape of y_train after encoding:  (42000, 10)\n"
     ]
    }
   ],
   "source": [
    "from keras.utils import np_utils\n",
    "nclasses = mnist_train_label.max() - mnist_train_label.min() + 1\n",
    "mnist_train_label = np_utils.to_categorical(mnist_train_label, num_classes = nclasses)\n",
    "print(\"Shape of y_train after encoding: \", mnist_train_label.shape)"
   ]
  },
  {
   "cell_type": "code",
   "execution_count": 8,
   "metadata": {
    "execution": {
     "iopub.execute_input": "2020-08-31T16:17:20.649998Z",
     "iopub.status.busy": "2020-08-31T16:17:20.649122Z",
     "iopub.status.idle": "2020-08-31T16:17:20.653444Z",
     "shell.execute_reply": "2020-08-31T16:17:20.652944Z"
    },
    "papermill": {
     "duration": 0.029241,
     "end_time": "2020-08-31T16:17:20.653552",
     "exception": false,
     "start_time": "2020-08-31T16:17:20.624311",
     "status": "completed"
    },
    "tags": []
   },
   "outputs": [
    {
     "data": {
      "text/plain": [
       "(42000, 28, 28, 1)"
      ]
     },
     "execution_count": 8,
     "metadata": {},
     "output_type": "execute_result"
    }
   ],
   "source": [
    "x_train=mnist_train_data\n",
    "x_test=mnist_test_arr\n",
    "y_train=mnist_train_label\n",
    "x_train.shape"
   ]
  },
  {
   "cell_type": "code",
   "execution_count": 9,
   "metadata": {
    "execution": {
     "iopub.execute_input": "2020-08-31T16:17:20.693617Z",
     "iopub.status.busy": "2020-08-31T16:17:20.692814Z",
     "iopub.status.idle": "2020-08-31T16:17:20.696619Z",
     "shell.execute_reply": "2020-08-31T16:17:20.696085Z"
    },
    "papermill": {
     "duration": 0.026245,
     "end_time": "2020-08-31T16:17:20.696718",
     "exception": false,
     "start_time": "2020-08-31T16:17:20.670473",
     "status": "completed"
    },
    "tags": []
   },
   "outputs": [
    {
     "data": {
      "text/plain": [
       "(33600, 10)"
      ]
     },
     "execution_count": 9,
     "metadata": {},
     "output_type": "execute_result"
    }
   ],
   "source": [
    "x_val=x_train[33600:] \n",
    "x=x_train[:33600]\n",
    "y_val= y_train[33600:]\n",
    "y=y_train[:33600]\n",
    "y.shape"
   ]
  },
  {
   "cell_type": "code",
   "execution_count": 10,
   "metadata": {
    "execution": {
     "iopub.execute_input": "2020-08-31T16:17:20.736778Z",
     "iopub.status.busy": "2020-08-31T16:17:20.735993Z",
     "iopub.status.idle": "2020-08-31T16:17:20.738488Z",
     "shell.execute_reply": "2020-08-31T16:17:20.739046Z"
    },
    "papermill": {
     "duration": 0.024399,
     "end_time": "2020-08-31T16:17:20.739191",
     "exception": false,
     "start_time": "2020-08-31T16:17:20.714792",
     "status": "completed"
    },
    "tags": []
   },
   "outputs": [],
   "source": [
    "from tensorflow.keras.preprocessing.image import ImageDataGenerator"
   ]
  },
  {
   "cell_type": "code",
   "execution_count": 11,
   "metadata": {
    "execution": {
     "iopub.execute_input": "2020-08-31T16:17:20.781508Z",
     "iopub.status.busy": "2020-08-31T16:17:20.780451Z",
     "iopub.status.idle": "2020-08-31T16:17:20.865370Z",
     "shell.execute_reply": "2020-08-31T16:17:20.864812Z"
    },
    "papermill": {
     "duration": 0.108372,
     "end_time": "2020-08-31T16:17:20.865497",
     "exception": false,
     "start_time": "2020-08-31T16:17:20.757125",
     "status": "completed"
    },
    "tags": []
   },
   "outputs": [],
   "source": [
    "datagen = ImageDataGenerator(\n",
    "       featurewise_center=False,  # set input mean to 0 over the dataset\n",
    "        samplewise_center=False,  # set each sample mean to 0\n",
    "        featurewise_std_normalization=False,  # divide inputs by std of the dataset\n",
    "        samplewise_std_normalization=False,  # divide each input by its std\n",
    "        zca_whitening=False,  # apply ZCA whitening\n",
    "        rotation_range=10,  # randomly rotate images in the range (degrees, 0 to 180)\n",
    "        zoom_range = 0.1, # Randomly zoom image \n",
    "        width_shift_range=0.1,  # randomly shift images horizontally (fraction of total width)\n",
    "        height_shift_range=0.1,  # randomly shift images vertically (fraction of total height)\n",
    "        horizontal_flip=False,  # randomly flip images\n",
    "        vertical_flip=False) \n",
    "\n",
    "\n",
    "datagen.fit(x)"
   ]
  },
  {
   "cell_type": "code",
   "execution_count": 12,
   "metadata": {
    "execution": {
     "iopub.execute_input": "2020-08-31T16:17:20.916225Z",
     "iopub.status.busy": "2020-08-31T16:17:20.915380Z",
     "iopub.status.idle": "2020-08-31T16:17:20.918747Z",
     "shell.execute_reply": "2020-08-31T16:17:20.919290Z"
    },
    "papermill": {
     "duration": 0.03451,
     "end_time": "2020-08-31T16:17:20.919423",
     "exception": false,
     "start_time": "2020-08-31T16:17:20.884913",
     "status": "completed"
    },
    "tags": []
   },
   "outputs": [
    {
     "data": {
      "text/plain": [
       "(33600, 28, 28, 1)"
      ]
     },
     "execution_count": 12,
     "metadata": {},
     "output_type": "execute_result"
    }
   ],
   "source": [
    "x.shape"
   ]
  },
  {
   "cell_type": "code",
   "execution_count": 13,
   "metadata": {
    "execution": {
     "iopub.execute_input": "2020-08-31T16:17:20.961444Z",
     "iopub.status.busy": "2020-08-31T16:17:20.960523Z",
     "iopub.status.idle": "2020-08-31T16:17:20.963432Z",
     "shell.execute_reply": "2020-08-31T16:17:20.962900Z"
    },
    "papermill": {
     "duration": 0.025897,
     "end_time": "2020-08-31T16:17:20.963559",
     "exception": false,
     "start_time": "2020-08-31T16:17:20.937662",
     "status": "completed"
    },
    "tags": []
   },
   "outputs": [],
   "source": [
    "from keras.optimizers import SGD"
   ]
  },
  {
   "cell_type": "code",
   "execution_count": 14,
   "metadata": {
    "execution": {
     "iopub.execute_input": "2020-08-31T16:17:21.014637Z",
     "iopub.status.busy": "2020-08-31T16:17:21.013964Z",
     "iopub.status.idle": "2020-08-31T16:17:24.491370Z",
     "shell.execute_reply": "2020-08-31T16:17:24.492255Z"
    },
    "papermill": {
     "duration": 3.510481,
     "end_time": "2020-08-31T16:17:24.492401",
     "exception": false,
     "start_time": "2020-08-31T16:17:20.981920",
     "status": "completed"
    },
    "tags": []
   },
   "outputs": [
    {
     "name": "stdout",
     "output_type": "stream",
     "text": [
      "Model: \"sequential\"\n",
      "_________________________________________________________________\n",
      "Layer (type)                 Output Shape              Param #   \n",
      "=================================================================\n",
      "conv2d (Conv2D)              (None, 24, 24, 32)        832       \n",
      "_________________________________________________________________\n",
      "conv2d_1 (Conv2D)            (None, 20, 20, 32)        25632     \n",
      "_________________________________________________________________\n",
      "max_pooling2d (MaxPooling2D) (None, 10, 10, 32)        0         \n",
      "_________________________________________________________________\n",
      "dropout (Dropout)            (None, 10, 10, 32)        0         \n",
      "_________________________________________________________________\n",
      "conv2d_2 (Conv2D)            (None, 6, 6, 64)          51264     \n",
      "_________________________________________________________________\n",
      "conv2d_3 (Conv2D)            (None, 2, 2, 64)          102464    \n",
      "_________________________________________________________________\n",
      "max_pooling2d_1 (MaxPooling2 (None, 1, 1, 64)          0         \n",
      "_________________________________________________________________\n",
      "dropout_1 (Dropout)          (None, 1, 1, 64)          0         \n",
      "_________________________________________________________________\n",
      "flatten (Flatten)            (None, 64)                0         \n",
      "_________________________________________________________________\n",
      "dense (Dense)                (None, 512)               33280     \n",
      "_________________________________________________________________\n",
      "dropout_2 (Dropout)          (None, 512)               0         \n",
      "_________________________________________________________________\n",
      "dense_1 (Dense)              (None, 128)               65664     \n",
      "_________________________________________________________________\n",
      "dense_2 (Dense)              (None, 10)                1290      \n",
      "=================================================================\n",
      "Total params: 280,426\n",
      "Trainable params: 280,426\n",
      "Non-trainable params: 0\n",
      "_________________________________________________________________\n"
     ]
    }
   ],
   "source": [
    "model = tf.keras.models.Sequential([\n",
    "  tf.keras.layers.Conv2D(32, (5,5), activation='relu', input_shape=(x_train.shape[1:])),  \n",
    " tf.keras.layers.Conv2D(32, (5,5), activation='relu'),\n",
    "  tf.keras.layers.MaxPooling2D(pool_size=(2,2), strides=(2,2)),\n",
    "        tf.keras.layers.Dropout(0.2),\n",
    "tf.keras.layers.Conv2D(64, (5,5), activation='relu'),  \n",
    " tf.keras.layers.Conv2D(64, (5,5), activation='relu'),\n",
    "  tf.keras.layers.MaxPooling2D(pool_size=(2,2), strides=(2,2)),\n",
    "tf.keras.layers.Dropout(0.2),\n",
    "  tf.keras.layers.Flatten(),\n",
    "    \n",
    "#   tf.keras.layers.Dense(4096, activation='relu'),\n",
    "# #     tf.keras.layers.Dropout(0.2),\n",
    "#   tf.keras.layers.Dense(2048, activation='relu'),\n",
    "# #     tf.keras.layers.Dropout(0.2),\n",
    "#   tf.keras.layers.Dense(1024, activation='relu'),\n",
    "# #     tf.keras.layers.Dropout(0.2),\n",
    "#   tf.keras.layers.Dense(512, activation='relu'),\n",
    "# #     tf.keras.layers.Dropout(0.2),\n",
    "    tf.keras.layers.Dense(512, activation='relu'),\n",
    "    tf.keras.layers.Dropout(0.5),\n",
    "    tf.keras.layers.Dense(128, activation='relu'),\n",
    "# #     tf.keras.layers.Dropout(0.2),\n",
    "  tf.keras.layers.Dense(10, activation='softmax')\n",
    "])\n",
    "learning_r= 0.01\n",
    "weight_decay=1e-6\n",
    "mometum=0.5\n",
    "sgd= SGD(lr=learning_r,decay=weight_decay,momentum=mometum, nesterov=True)\n",
    "model.compile(loss='categorical_crossentropy',optimizer=sgd,metrics=['accuracy'])\n",
    "model.summary()\n"
   ]
  },
  {
   "cell_type": "code",
   "execution_count": 15,
   "metadata": {
    "execution": {
     "iopub.execute_input": "2020-08-31T16:17:24.537320Z",
     "iopub.status.busy": "2020-08-31T16:17:24.536119Z",
     "iopub.status.idle": "2020-08-31T16:30:42.731975Z",
     "shell.execute_reply": "2020-08-31T16:30:42.731300Z"
    },
    "papermill": {
     "duration": 798.220355,
     "end_time": "2020-08-31T16:30:42.732127",
     "exception": false,
     "start_time": "2020-08-31T16:17:24.511772",
     "status": "completed"
    },
    "tags": []
   },
   "outputs": [
    {
     "name": "stdout",
     "output_type": "stream",
     "text": [
      "Epoch 1/50\n",
      "1050/1050 [==============================] - 16s 15ms/step - loss: 1.4480 - accuracy: 0.4907 - val_loss: 0.1962 - val_accuracy: 0.9439\n",
      "Epoch 2/50\n",
      "1050/1050 [==============================] - 15s 14ms/step - loss: 0.4018 - accuracy: 0.8742 - val_loss: 0.1047 - val_accuracy: 0.9686\n",
      "Epoch 3/50\n",
      "1050/1050 [==============================] - 15s 14ms/step - loss: 0.2491 - accuracy: 0.9269 - val_loss: 0.0772 - val_accuracy: 0.9765\n",
      "Epoch 4/50\n",
      "1050/1050 [==============================] - 15s 14ms/step - loss: 0.1890 - accuracy: 0.9435 - val_loss: 0.0480 - val_accuracy: 0.9850\n",
      "Epoch 5/50\n",
      "1050/1050 [==============================] - 16s 15ms/step - loss: 0.1546 - accuracy: 0.9546 - val_loss: 0.0392 - val_accuracy: 0.9882\n",
      "Epoch 6/50\n",
      "1050/1050 [==============================] - 15s 15ms/step - loss: 0.1336 - accuracy: 0.9606 - val_loss: 0.0458 - val_accuracy: 0.9850\n",
      "Epoch 7/50\n",
      "1050/1050 [==============================] - 15s 14ms/step - loss: 0.1213 - accuracy: 0.9646 - val_loss: 0.0371 - val_accuracy: 0.9883\n",
      "Epoch 8/50\n",
      "1050/1050 [==============================] - 15s 15ms/step - loss: 0.1118 - accuracy: 0.9676 - val_loss: 0.0333 - val_accuracy: 0.9904\n",
      "Epoch 9/50\n",
      "1050/1050 [==============================] - 16s 15ms/step - loss: 0.0999 - accuracy: 0.9715 - val_loss: 0.0298 - val_accuracy: 0.9918\n",
      "Epoch 10/50\n",
      "1050/1050 [==============================] - 16s 15ms/step - loss: 0.0933 - accuracy: 0.9741 - val_loss: 0.0302 - val_accuracy: 0.9915\n",
      "Epoch 11/50\n",
      "1050/1050 [==============================] - 15s 14ms/step - loss: 0.0881 - accuracy: 0.9746 - val_loss: 0.0270 - val_accuracy: 0.9918\n",
      "Epoch 12/50\n",
      "1050/1050 [==============================] - 17s 16ms/step - loss: 0.0882 - accuracy: 0.9743 - val_loss: 0.0235 - val_accuracy: 0.9935\n",
      "Epoch 13/50\n",
      "1050/1050 [==============================] - 15s 15ms/step - loss: 0.0780 - accuracy: 0.9769 - val_loss: 0.0248 - val_accuracy: 0.9937\n",
      "Epoch 14/50\n",
      "1050/1050 [==============================] - 16s 15ms/step - loss: 0.0727 - accuracy: 0.9785 - val_loss: 0.0235 - val_accuracy: 0.9933\n",
      "Epoch 15/50\n",
      "1050/1050 [==============================] - 15s 14ms/step - loss: 0.0748 - accuracy: 0.9778 - val_loss: 0.0241 - val_accuracy: 0.9933\n",
      "Epoch 16/50\n",
      "1050/1050 [==============================] - 17s 16ms/step - loss: 0.0672 - accuracy: 0.9787 - val_loss: 0.0251 - val_accuracy: 0.9932\n",
      "Epoch 17/50\n",
      "1050/1050 [==============================] - 15s 14ms/step - loss: 0.0668 - accuracy: 0.9814 - val_loss: 0.0242 - val_accuracy: 0.9935\n",
      "Epoch 18/50\n",
      "1050/1050 [==============================] - 15s 14ms/step - loss: 0.0635 - accuracy: 0.9816 - val_loss: 0.0274 - val_accuracy: 0.9935\n",
      "Epoch 19/50\n",
      "1050/1050 [==============================] - 16s 15ms/step - loss: 0.0607 - accuracy: 0.9828 - val_loss: 0.0225 - val_accuracy: 0.9939\n",
      "Epoch 20/50\n",
      "1050/1050 [==============================] - 15s 15ms/step - loss: 0.0613 - accuracy: 0.9825 - val_loss: 0.0286 - val_accuracy: 0.9925\n",
      "Epoch 21/50\n",
      "1050/1050 [==============================] - 16s 15ms/step - loss: 0.0596 - accuracy: 0.9828 - val_loss: 0.0237 - val_accuracy: 0.9929\n",
      "Epoch 22/50\n",
      "1050/1050 [==============================] - 15s 14ms/step - loss: 0.0556 - accuracy: 0.9842 - val_loss: 0.0232 - val_accuracy: 0.9936\n",
      "Epoch 23/50\n",
      "1050/1050 [==============================] - 17s 16ms/step - loss: 0.0550 - accuracy: 0.9842 - val_loss: 0.0218 - val_accuracy: 0.9939\n",
      "Epoch 24/50\n",
      "1050/1050 [==============================] - 16s 15ms/step - loss: 0.0557 - accuracy: 0.9840 - val_loss: 0.0232 - val_accuracy: 0.9938\n",
      "Epoch 25/50\n",
      "1050/1050 [==============================] - 17s 16ms/step - loss: 0.0549 - accuracy: 0.9841 - val_loss: 0.0226 - val_accuracy: 0.9940\n",
      "Epoch 26/50\n",
      "1050/1050 [==============================] - 16s 15ms/step - loss: 0.0521 - accuracy: 0.9851 - val_loss: 0.0262 - val_accuracy: 0.9929\n",
      "Epoch 27/50\n",
      "1050/1050 [==============================] - 17s 16ms/step - loss: 0.0531 - accuracy: 0.9840 - val_loss: 0.0220 - val_accuracy: 0.9948\n",
      "Epoch 28/50\n",
      "1050/1050 [==============================] - 16s 16ms/step - loss: 0.0476 - accuracy: 0.9862 - val_loss: 0.0208 - val_accuracy: 0.9946\n",
      "Epoch 29/50\n",
      "1050/1050 [==============================] - 16s 16ms/step - loss: 0.0480 - accuracy: 0.9858 - val_loss: 0.0212 - val_accuracy: 0.9945\n",
      "Epoch 30/50\n",
      "1050/1050 [==============================] - 16s 15ms/step - loss: 0.0448 - accuracy: 0.9871 - val_loss: 0.0216 - val_accuracy: 0.9939\n",
      "Epoch 31/50\n",
      "1050/1050 [==============================] - 16s 15ms/step - loss: 0.0461 - accuracy: 0.9867 - val_loss: 0.0273 - val_accuracy: 0.9937\n",
      "Epoch 32/50\n",
      "1050/1050 [==============================] - 18s 17ms/step - loss: 0.0452 - accuracy: 0.9864 - val_loss: 0.0226 - val_accuracy: 0.9944\n",
      "Epoch 33/50\n",
      "1050/1050 [==============================] - 15s 14ms/step - loss: 0.0443 - accuracy: 0.9865 - val_loss: 0.0211 - val_accuracy: 0.9943\n",
      "Epoch 34/50\n",
      "1050/1050 [==============================] - 18s 17ms/step - loss: 0.0408 - accuracy: 0.9876 - val_loss: 0.0198 - val_accuracy: 0.9957\n",
      "Epoch 35/50\n",
      "1050/1050 [==============================] - 16s 16ms/step - loss: 0.0406 - accuracy: 0.9883 - val_loss: 0.0207 - val_accuracy: 0.9948\n",
      "Epoch 36/50\n",
      "1050/1050 [==============================] - 18s 17ms/step - loss: 0.0404 - accuracy: 0.9888 - val_loss: 0.0203 - val_accuracy: 0.9949\n",
      "Epoch 37/50\n",
      "1050/1050 [==============================] - 14s 13ms/step - loss: 0.0429 - accuracy: 0.9874 - val_loss: 0.0197 - val_accuracy: 0.9957\n",
      "Epoch 38/50\n",
      "1050/1050 [==============================] - 16s 15ms/step - loss: 0.0396 - accuracy: 0.9888 - val_loss: 0.0226 - val_accuracy: 0.9945\n",
      "Epoch 39/50\n",
      "1050/1050 [==============================] - 17s 16ms/step - loss: 0.0392 - accuracy: 0.9887 - val_loss: 0.0227 - val_accuracy: 0.9942\n",
      "Epoch 40/50\n",
      "1050/1050 [==============================] - 15s 14ms/step - loss: 0.0369 - accuracy: 0.9903 - val_loss: 0.0213 - val_accuracy: 0.9957\n",
      "Epoch 41/50\n",
      "1050/1050 [==============================] - 17s 16ms/step - loss: 0.0353 - accuracy: 0.9895 - val_loss: 0.0226 - val_accuracy: 0.9945\n",
      "Epoch 42/50\n",
      "1050/1050 [==============================] - 15s 14ms/step - loss: 0.0385 - accuracy: 0.9886 - val_loss: 0.0215 - val_accuracy: 0.9949\n",
      "Epoch 43/50\n",
      "1050/1050 [==============================] - 19s 19ms/step - loss: 0.0358 - accuracy: 0.9900 - val_loss: 0.0232 - val_accuracy: 0.9940\n",
      "Epoch 44/50\n",
      "1050/1050 [==============================] - 15s 14ms/step - loss: 0.0365 - accuracy: 0.9891 - val_loss: 0.0228 - val_accuracy: 0.9951\n",
      "Epoch 45/50\n",
      "1050/1050 [==============================] - 15s 14ms/step - loss: 0.0333 - accuracy: 0.9905 - val_loss: 0.0262 - val_accuracy: 0.9933\n",
      "Epoch 46/50\n",
      "1050/1050 [==============================] - 16s 15ms/step - loss: 0.0360 - accuracy: 0.9897 - val_loss: 0.0209 - val_accuracy: 0.9950\n",
      "Epoch 47/50\n",
      "1050/1050 [==============================] - 17s 16ms/step - loss: 0.0351 - accuracy: 0.9889 - val_loss: 0.0223 - val_accuracy: 0.9949\n",
      "Epoch 48/50\n",
      "1050/1050 [==============================] - 16s 15ms/step - loss: 0.0366 - accuracy: 0.9893 - val_loss: 0.0212 - val_accuracy: 0.9956\n",
      "Epoch 49/50\n",
      "1050/1050 [==============================] - 15s 14ms/step - loss: 0.0325 - accuracy: 0.9908 - val_loss: 0.0199 - val_accuracy: 0.9955\n",
      "Epoch 50/50\n",
      "1050/1050 [==============================] - 16s 15ms/step - loss: 0.0315 - accuracy: 0.9909 - val_loss: 0.0213 - val_accuracy: 0.9961\n"
     ]
    }
   ],
   "source": [
    "hist= model.fit(datagen.flow(x,y) ,epochs=50,    validation_data= (x_val,y_val), verbose=1)"
   ]
  },
  {
   "cell_type": "code",
   "execution_count": 16,
   "metadata": {
    "execution": {
     "iopub.execute_input": "2020-08-31T16:30:52.526442Z",
     "iopub.status.busy": "2020-08-31T16:30:52.525200Z",
     "iopub.status.idle": "2020-08-31T16:30:52.718953Z",
     "shell.execute_reply": "2020-08-31T16:30:52.719514Z"
    },
    "papermill": {
     "duration": 4.93507,
     "end_time": "2020-08-31T16:30:52.719661",
     "exception": false,
     "start_time": "2020-08-31T16:30:47.784591",
     "status": "completed"
    },
    "tags": []
   },
   "outputs": [
    {
     "data": {
      "text/plain": [
       "<matplotlib.legend.Legend at 0x7f5fe8206a50>"
      ]
     },
     "execution_count": 16,
     "metadata": {},
     "output_type": "execute_result"
    },
    {
     "data": {
      "image/png": "[encoded data removed]",
      "text/plain": [
       "<Figure size 432x288 with 1 Axes>"
      ]
     },
     "metadata": {
      "needs_background": "light"
     },
     "output_type": "display_data"
    }
   ],
   "source": [
    "plt.plot(hist.history['accuracy'],label = 'ACCURACY')\n",
    "plt.plot(hist.history['val_accuracy'],label = 'VALIDATION ACCURACY')\n",
    "plt.legend()"
   ]
  },
  {
   "cell_type": "code",
   "execution_count": 17,
   "metadata": {
    "execution": {
     "iopub.execute_input": "2020-08-31T16:31:02.714531Z",
     "iopub.status.busy": "2020-08-31T16:31:02.712871Z",
     "iopub.status.idle": "2020-08-31T16:31:02.907957Z",
     "shell.execute_reply": "2020-08-31T16:31:02.908642Z"
    },
    "papermill": {
     "duration": 5.238908,
     "end_time": "2020-08-31T16:31:02.908806",
     "exception": false,
     "start_time": "2020-08-31T16:30:57.669898",
     "status": "completed"
    },
    "tags": []
   },
   "outputs": [
    {
     "data": {
      "text/plain": [
       "<matplotlib.legend.Legend at 0x7f604d1c01d0>"
      ]
     },
     "execution_count": 17,
     "metadata": {},
     "output_type": "execute_result"
    },
    {
     "data": {
      "image/png": "[encoded data removed]",
      "text/plain": [
       "<Figure size 432x288 with 1 Axes>"
      ]
     },
     "metadata": {
      "needs_background": "light"
     },
     "output_type": "display_data"
    }
   ],
   "source": [
    "plt.plot(hist.history['loss'],label = 'TRAINING LOSS')\n",
    "plt.plot(hist.history['val_loss'],label = 'VALIDATION LOSS')\n",
    "plt.legend()"
   ]
  },
  {
   "cell_type": "code",
   "execution_count": 18,
   "metadata": {
    "execution": {
     "iopub.execute_input": "2020-08-31T16:31:12.712221Z",
     "iopub.status.busy": "2020-08-31T16:31:12.711199Z",
     "iopub.status.idle": "2020-08-31T16:31:13.916761Z",
     "shell.execute_reply": "2020-08-31T16:31:13.917265Z"
    },
    "papermill": {
     "duration": 6.142523,
     "end_time": "2020-08-31T16:31:13.917430",
     "exception": false,
     "start_time": "2020-08-31T16:31:07.774907",
     "status": "completed"
    },
    "tags": []
   },
   "outputs": [],
   "source": [
    "p = model.predict(x_test)"
   ]
  },
  {
   "cell_type": "code",
   "execution_count": 19,
   "metadata": {
    "execution": {
     "iopub.execute_input": "2020-08-31T16:31:23.774160Z",
     "iopub.status.busy": "2020-08-31T16:31:23.772529Z",
     "iopub.status.idle": "2020-08-31T16:31:23.875715Z",
     "shell.execute_reply": "2020-08-31T16:31:23.876256Z"
    },
    "papermill": {
     "duration": 5.088,
     "end_time": "2020-08-31T16:31:23.876414",
     "exception": false,
     "start_time": "2020-08-31T16:31:18.788414",
     "status": "completed"
    },
    "tags": []
   },
   "outputs": [],
   "source": [
    "p_t = []\n",
    "\n",
    "for i in p:\n",
    "    p_t.append(np.argmax(i))\n",
    "\n"
   ]
  },
  {
   "cell_type": "code",
   "execution_count": 20,
   "metadata": {
    "execution": {
     "iopub.execute_input": "2020-08-31T16:31:33.775721Z",
     "iopub.status.busy": "2020-08-31T16:31:33.774777Z",
     "iopub.status.idle": "2020-08-31T16:31:33.887848Z",
     "shell.execute_reply": "2020-08-31T16:31:33.886561Z"
    },
    "papermill": {
     "duration": 5.301568,
     "end_time": "2020-08-31T16:31:33.887970",
     "exception": false,
     "start_time": "2020-08-31T16:31:28.586402",
     "status": "completed"
    },
    "tags": []
   },
   "outputs": [],
   "source": [
    "submission =  pd.DataFrame({\n",
    "        \"ImageId\": mnist_test.index+1,\n",
    "        \"Label\": p_t\n",
    "    })\n",
    "\n",
    "submission.to_csv('my_submission.csv', index=False)"
   ]
  },
  {
   "cell_type": "code",
   "execution_count": null,
   "metadata": {
    "papermill": {
     "duration": 5.181196,
     "end_time": "2020-08-31T16:31:44.357195",
     "exception": false,
     "start_time": "2020-08-31T16:31:39.175999",
     "status": "completed"
    },
    "tags": []
   },
   "outputs": [],
   "source": []
  }
 ],
 "metadata": {
  "kernelspec": {
   "display_name": "Python 3",
   "language": "python",
   "name": "python3"
  },
  "language_info": {
   "codemirror_mode": {
    "name": "ipython",
    "version": 3
   },
   "file_extension": ".py",
   "mimetype": "text/x-python",
   "name": "python",
   "nbconvert_exporter": "python",
   "pygments_lexer": "ipython3",
   "version": "3.7.6"
  },
  "papermill": {
   "duration": 886.450822,
   "end_time": "2020-08-31T16:31:50.997042",
   "environment_variables": {},
   "exception": null,
   "input_path": "__notebook__.ipynb",
   "output_path": "__notebook__.ipynb",
   "parameters": {},
   "start_time": "2020-08-31T16:17:04.546220",
   "version": "2.1.0"
  }
 },
 "nbformat": 4,
 "nbformat_minor": 4
}
